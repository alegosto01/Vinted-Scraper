{
 "cells": [
  {
   "cell_type": "code",
   "execution_count": 3,
   "metadata": {},
   "outputs": [],
   "source": [
    "import pandas as pd\n",
    "import numpy as np\n",
    "# import embedder as emb"
   ]
  },
  {
   "cell_type": "code",
   "execution_count": 6,
   "metadata": {},
   "outputs": [
    {
     "name": "stderr",
     "output_type": "stream",
     "text": [
      "<ipython-input-6-b0411f0ba162>:2: DtypeWarning: Columns (1,5,10,11) have mixed types. Specify dtype option on import or set low_memory=False.\n",
      "  big_df = pd.read_csv(csv_path)\n"
     ]
    }
   ],
   "source": [
    "csv_path = \"/home/ale/Desktop/Vinted-Web-Scraper/big_csv/big_csv.csv\"\n",
    "big_df = pd.read_csv(csv_path)\n"
   ]
  },
  {
   "cell_type": "markdown",
   "metadata": {},
   "source": [
    "# Fix period in prices\n"
   ]
  },
  {
   "cell_type": "code",
   "execution_count": null,
   "metadata": {},
   "outputs": [],
   "source": [
    "\n",
    "\n",
    "def fix_price(price):\n",
    "    if isinstance(price, str) and '.' not in price and price.isdigit():\n",
    "        return f\"{price[:-2]}.{price[-2:]}\"  # Insert period before the last two digits\n",
    "    return price\n",
    "\n",
    "# Apply the function to the 'Price' column\n",
    "big_df['Price'] = big_df['Price'].apply(fix_price)"
   ]
  },
  {
   "cell_type": "markdown",
   "metadata": {},
   "source": [
    "# Drop columns"
   ]
  },
  {
   "cell_type": "code",
   "execution_count": null,
   "metadata": {},
   "outputs": [],
   "source": [
    "columns_to_drop = [\"Page\", \"SearchCount\", \"Condition\", \"LastCheck\", \"Dataid\", \"Link\", \"\" ]\n",
    "big_df = big_df.drop(columns=columns_to_drop)"
   ]
  },
  {
   "cell_type": "markdown",
   "metadata": {},
   "source": [
    "# Parse size to float"
   ]
  },
  {
   "cell_type": "code",
   "execution_count": null,
   "metadata": {},
   "outputs": [],
   "source": [
    "def float_size(price):\n",
    "    if isinstance(price, int):\n",
    "        return float(price)\n",
    "    return price\n",
    "\n",
    "big_df[\"Size\"] = big_df[\"Size\"].apply(float_size)"
   ]
  },
  {
   "cell_type": "markdown",
   "metadata": {},
   "source": [
    "# Remove sold items from big csv"
   ]
  },
  {
   "cell_type": "code",
   "execution_count": 11,
   "metadata": {},
   "outputs": [
    {
     "name": "stdout",
     "output_type": "stream",
     "text": [
      "55114\n"
     ]
    }
   ],
   "source": [
    "sold_csv_path = \"/home/ale/Desktop/Vinted-Web-Scraper/sold_items.csv\"\n",
    "sold_df = pd.read_csv(sold_csv_path)\n",
    "\n",
    "\n",
    "df_result = pd.merge(big_df, sold_df, on=\"Dataid\", how='left', indicator=True).query('_merge == \"left_only\"').drop(columns='_merge')\n",
    "\n",
    "print(len(df_result))"
   ]
  },
  {
   "cell_type": "markdown",
   "metadata": {},
   "source": [
    "# Cast Market Status "
   ]
  },
  {
   "cell_type": "code",
   "execution_count": null,
   "metadata": {},
   "outputs": [],
   "source": [
    "big_df['MarketStatus'] = 0\n",
    "\n",
    "# Move 'MarketStatus' column to the end\n",
    "market_status = big_df.pop('MarketStatus')\n",
    "big_df['MarketStatus'] = market_status"
   ]
  },
  {
   "cell_type": "code",
   "execution_count": null,
   "metadata": {},
   "outputs": [],
   "source": [
    "sold_descriptions = df_final[df_final['MarketStatus'] == 1]['Description'].tolist()\n",
    "not_sold_descriptions = df_final[df_final['MarketStatus'] == 0]['Description'].tolist()"
   ]
  },
  {
   "cell_type": "code",
   "execution_count": null,
   "metadata": {},
   "outputs": [],
   "source": [
    "# Getting embeddings\n",
    "sold_embeddings = [emb.get_embedding(sentence) for sentence in sold_descriptions]\n",
    "not_sold_embeddings = [emb.get_embedding(sentence) for sentence in not_sold_descriptions]\n",
    "\n",
    "# Calculating average locations (centroids)\n",
    "sold_centroid = emb.calculate_centroid(sold_embeddings)\n",
    "not_sold_centroid = emb.calculate_centroid(not_sold_embeddings)"
   ]
  }
 ],
 "metadata": {
  "kernelspec": {
   "display_name": "usr",
   "language": "python",
   "name": "python3"
  },
  "language_info": {
   "codemirror_mode": {
    "name": "ipython",
    "version": 3
   },
   "file_extension": ".py",
   "mimetype": "text/x-python",
   "name": "python",
   "nbconvert_exporter": "python",
   "pygments_lexer": "ipython3",
   "version": "3.10.12"
  }
 },
 "nbformat": 4,
 "nbformat_minor": 2
}
