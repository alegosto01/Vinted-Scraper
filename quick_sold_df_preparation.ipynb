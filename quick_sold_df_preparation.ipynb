{
 "cells": [
  {
   "cell_type": "code",
   "execution_count": null,
   "metadata": {},
   "outputs": [],
   "source": [
    "import pandas as pd\n",
    "import numpy as np\n",
    "import embedder as emb"
   ]
  },
  {
   "cell_type": "code",
   "execution_count": null,
   "metadata": {},
   "outputs": [],
   "source": []
  },
  {
   "cell_type": "code",
   "execution_count": null,
   "metadata": {},
   "outputs": [],
   "source": [
    "selling_time_dict ={\"un'ora\": 60,\n",
    "                    }"
   ]
  },
  {
   "cell_type": "code",
   "execution_count": null,
   "metadata": {},
   "outputs": [],
   "source": [
    "df_sold = pd.read_csv('data.csv')\n",
    "df_not_sold = pd.read_csv('data.csv')\n",
    "\n",
    "df_final = pd.concat([df_sold, df_not_sold], axis=0)"
   ]
  },
  {
   "cell_type": "code",
   "execution_count": null,
   "metadata": {},
   "outputs": [],
   "source": [
    "columns_to_drop = [\"Dataid\", \"Images\", \"Link\", \"SearchDate\", \"SellerId\", \"SellerName\", \"Condition\", \"Page\", \"SearchCount\"]\n",
    "\n",
    "df_final = df_final.drop(columns=columns_to_drop)\n",
    "\n",
    "for index, row in df_final.iterrows():\n",
    "    if \"min\" in row[\"Upload_date\"]:\n",
    "        df_final.at[index, \"Upload_date\"] = int(row[\"Upload_date\"].split(\" \")[0])\n",
    "    elif row[\"Upload_date\"] in selling_time_dict:\n",
    "        df_final.at[index, \"Upload_date\"] = selling_time_dict[row[\"Upload_date\"]]\n",
    "    else:\n",
    "        print(\"Error: \", row[\"Upload_date\"])\n",
    "        df_final = df_final.drop(index)\n"
   ]
  },
  {
   "cell_type": "code",
   "execution_count": null,
   "metadata": {},
   "outputs": [],
   "source": [
    "df_final['MarketStatus'] = df_final['MarketStatus'].map({'On Sale': 0, 'Sold': 1})\n",
    "\n",
    "# Move 'MarketStatus' column to the end\n",
    "market_status = df_final.pop('MarketStatus')\n",
    "df_final['MarketStatus'] = market_status"
   ]
  },
  {
   "cell_type": "code",
   "execution_count": null,
   "metadata": {},
   "outputs": [],
   "source": [
    "sold_descriptions = df_final[df_final['MarketStatus'] == 1]['Description'].tolist()\n",
    "not_sold_descriptions = df_final[df_final['MarketStatus'] == 0]['Description'].tolist()"
   ]
  },
  {
   "cell_type": "code",
   "execution_count": null,
   "metadata": {},
   "outputs": [],
   "source": [
    "# Getting embeddings\n",
    "sold_embeddings = [emb.get_embedding(sentence) for sentence in sold_descriptions]\n",
    "not_sold_embeddings = [emb.get_embedding(sentence) for sentence in not_sold_descriptions]\n",
    "\n",
    "# Calculating average locations (centroids)\n",
    "sold_centroid = emb.calculate_centroid(sold_embeddings)\n",
    "not_sold_centroid = emb.calculate_centroid(not_sold_embeddings)"
   ]
  }
 ],
 "metadata": {
  "language_info": {
   "name": "python"
  }
 },
 "nbformat": 4,
 "nbformat_minor": 2
}
